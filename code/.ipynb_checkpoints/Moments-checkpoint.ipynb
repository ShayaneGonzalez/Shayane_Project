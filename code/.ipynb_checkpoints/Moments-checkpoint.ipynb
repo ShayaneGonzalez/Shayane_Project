{
 "cells": [
  {
   "cell_type": "markdown",
   "metadata": {},
   "source": [
    "# Moments"
   ]
  },
  {
   "cell_type": "markdown",
   "metadata": {},
   "source": [
    "### Brief description"
   ]
  },
  {
   "cell_type": "markdown",
   "metadata": {},
   "source": [
    "This Jupyter notebook is a supplementary material contaning the code needed to generate part of the synthetic data and reproduce part of the figures and results of the manuscript. This code uses the open-source Python toolkit for geophysical modeling and inversion [Fatiando a Terra](http://www.fatiando.org/index.html).\n",
    "\n",
    "This code presents a numerical validation of the moments  (equations 35-41) within a planar equivalent layer."
   ]
  },
  {
   "cell_type": "markdown",
   "metadata": {},
   "source": [
    "**Note:** A Jupyter notebook is a document that incorporates text, results, figures, and the Python source code to produce them. If you are viewing this from the URL https://nbviewer.jupyter.org/, the document will be static (not executable). To run the code, you will need to download the notebook and install all the required dependencies. For installing the Fatiando a Terra and all the required dependencies, please follow the instructions shown in http://www.fatiando.org/install.html."
   ]
  },
  {
   "cell_type": "markdown",
   "metadata": {},
   "source": [
    "### Import the required dependencies"
   ]
  },
  {
   "cell_type": "code",
   "execution_count": 1,
   "metadata": {
    "collapsed": false
   },
   "outputs": [
    {
     "name": "stderr",
     "output_type": "stream",
     "text": [
      "C:\\Anaconda2\\lib\\site-packages\\fatiando\\vis\\mpl.py:70: UserWarning: This module will be removed in v0.6. We recommend the use of matplotlib.pyplot module directly. Some of the fatiando specific functions will remain.\n",
      "  \"specific functions will remain.\")\n",
      "C:\\Anaconda2\\lib\\site-packages\\fatiando\\vis\\myv.py:53: UserWarning: This module will be removed in v0.7.\n",
      "  warnings.warn(\"This module will be removed in v0.7.\")\n"
     ]
    }
   ],
   "source": [
    "%matplotlib inline\n",
    "import numpy as np\n",
    "from matplotlib import pyplot as plt\n",
    "import cPickle as pickle\n",
    "import datetime\n",
    "from IPython.display import Markdown as md\n",
    "from IPython.display import display as dp\n",
    "import string as st\n",
    "\n",
    "from __future__ import division\n",
    "from future.builtins import super\n",
    "\n",
    "import auxiliary_functions as af\n",
    "\n",
    "from fatiando import gridder\n",
    "from fatiando.mesher import Prism, PointGrid\n",
    "from fatiando.gridder import regular\n",
    "from fatiando.gravmag import prism, sphere\n",
    "from fatiando.gravmag.eqlayer import EQLTotalField\n",
    "from fatiando.inversion.regularization import Damping, Smoothness2D\n",
    "from fatiando.inversion.hyper_param import LCurve\n",
    "from fatiando.vis import mpl, myv\n",
    "from fatiando.utils import ang2vec, vec2ang\n",
    "from fatiando.constants import G, SI2MGAL"
   ]
  },
  {
   "cell_type": "code",
   "execution_count": 2,
   "metadata": {
    "collapsed": false
   },
   "outputs": [],
   "source": [
    "plt.rcParams['font.size'] = 6\n",
    "plt.rcParams['axes.labelsize'] = 8\n",
    "plt.rcParams['xtick.labelsize'] = 6\n",
    "plt.rcParams['ytick.labelsize'] = 6\n",
    "plt.rcParams['legend.fontsize'] = 6\n",
    "plt.rcParams['xtick.major.pad'] = 3\n",
    "plt.rcParams['ytick.major.pad'] = 3"
   ]
  },
  {
   "cell_type": "code",
   "execution_count": 3,
   "metadata": {
    "collapsed": true
   },
   "outputs": [],
   "source": [
    "notebook_name = 'Moments.ipynb'"
   ]
  },
  {
   "cell_type": "code",
   "execution_count": 4,
   "metadata": {
    "collapsed": true
   },
   "outputs": [],
   "source": [
    "saved_files = [] #list of saved files"
   ]
  },
  {
   "cell_type": "markdown",
   "metadata": {},
   "source": [
    "### Load the synthetic model formed by ONE prism"
   ]
  },
  {
   "cell_type": "code",
   "execution_count": 5,
   "metadata": {
    "collapsed": false
   },
   "outputs": [],
   "source": [
    "with open('../data/model_single.pickle') as f:\n",
    "        full_model = pickle.load(f)"
   ]
  },
  {
   "cell_type": "code",
   "execution_count": 6,
   "metadata": {
    "collapsed": true
   },
   "outputs": [],
   "source": [
    "inc, dec = full_model['geomag_field']"
   ]
  },
  {
   "cell_type": "code",
   "execution_count": 7,
   "metadata": {
    "collapsed": false
   },
   "outputs": [],
   "source": [
    "ints, incs, decs = vec2ang(full_model['model'][0].props['magnetization'])"
   ]
  },
  {
   "cell_type": "code",
   "execution_count": 8,
   "metadata": {
    "collapsed": false
   },
   "outputs": [
    {
     "name": "stdout",
     "output_type": "stream",
     "text": [
      "2670.0\n"
     ]
    }
   ],
   "source": [
    "rhos = full_model['model'][0].props['density']\n",
    "print rhos"
   ]
  },
  {
   "cell_type": "markdown",
   "metadata": {
    "collapsed": false
   },
   "source": [
    "### Load the grid of points"
   ]
  },
  {
   "cell_type": "code",
   "execution_count": 9,
   "metadata": {
    "collapsed": true
   },
   "outputs": [],
   "source": [
    "with open('../data/regular_grid.pickle') as f:\n",
    "        regular_grid = pickle.load(f)"
   ]
  },
  {
   "cell_type": "code",
   "execution_count": 10,
   "metadata": {
    "collapsed": false
   },
   "outputs": [
    {
     "data": {
      "text/plain": [
       "{'DS': 4.001600480128031,\n",
       " 'N': 25000000,\n",
       " 'area': [-5000, 5000, -5000, 5000],\n",
       " 'metadata': 'Generated by computation_points.ipynb on 08 April 2018 22:56:45 UTC',\n",
       " 'shape': (5000, 5000),\n",
       " 'spacing': [2.000400080016003, 2.000400080016003]}"
      ]
     },
     "execution_count": 10,
     "metadata": {},
     "output_type": "execute_result"
    }
   ],
   "source": [
    "regular_grid"
   ]
  },
  {
   "cell_type": "code",
   "execution_count": 11,
   "metadata": {
    "collapsed": false
   },
   "outputs": [
    {
     "name": "stdout",
     "output_type": "stream",
     "text": [
      "2.00040008002 2.00040008002\n",
      "4.00160048013\n"
     ]
    }
   ],
   "source": [
    "# Verifying the area, shape of data, grid spacing and the element of area \n",
    "regular_grid['area']\n",
    "regular_grid['shape']\n",
    "dy1, dx1 = gridder.spacing(regular_grid['area'], regular_grid['shape'])\n",
    "print dy1, dx1\n",
    "ds1=dx1*dy1\n",
    "print ds1"
   ]
  },
  {
   "cell_type": "markdown",
   "metadata": {},
   "source": [
    "### Define the coordinates on the observation surface"
   ]
  },
  {
   "cell_type": "code",
   "execution_count": 12,
   "metadata": {
    "collapsed": false
   },
   "outputs": [
    {
     "name": "stdout",
     "output_type": "stream",
     "text": [
      "25000000\n"
     ]
    }
   ],
   "source": [
    "#coordinates x and y of the data\n",
    "xp, yp = regular(regular_grid['area'], regular_grid['shape'])\n",
    "\n",
    "#vertical coordinates of the data\n",
    "#zp = af.observation_surface(xp,yp)\n",
    "\n",
    "# vertical coordinates of the data\n",
    "zp = np.zeros_like(xp)\n",
    "height_obs = -50.\n",
    "\n",
    "print len(zp)\n",
    "\n",
    "assert (xp.size == regular_grid['N']) and (yp.size == regular_grid['N']) and (zp.size == regular_grid['N']),  \\\n",
    "                'xp and yp and zp must have the same size difined by shape'\n"
   ]
  },
  {
   "cell_type": "code",
   "execution_count": 13,
   "metadata": {
    "collapsed": false
   },
   "outputs": [
    {
     "data": {
      "image/png": "[encoded data removed]",
      "text/plain": [
       "<matplotlib.figure.Figure at 0x814cc50>"
      ]
     },
     "metadata": {},
     "output_type": "display_data"
    },
    {
     "name": "stdout",
     "output_type": "stream",
     "text": [
      "..\\figs\\Data_Surface\n"
     ]
    },
    {
     "data": {
      "text/plain": [
       "<matplotlib.figure.Figure at 0x84c7f60>"
      ]
     },
     "metadata": {},
     "output_type": "display_data"
    }
   ],
   "source": [
    "file_name = '..\\\\figs\\\\Data_Surface'\n",
    "\n",
    "af.plotmap(xp, yp, zp, regular_grid['shape'], regular_grid['area'],\n",
    "                color_scheme = 'Greys_r', prism_projection = True, projection_style = '-w', \n",
    "                model = full_model['projection'], unit = 'm')\n",
    "print file_name\n",
    "plt.savefig(file_name+'.eps', dpi=600)\n",
    "\n",
    "\n",
    "saved_files.append(file_name+'.eps')\n",
    "\n",
    "plt.show()"
   ]
  },
  {
   "cell_type": "code",
   "execution_count": 14,
   "metadata": {
    "collapsed": false
   },
   "outputs": [
    {
     "name": "stdout",
     "output_type": "stream",
     "text": [
      "[[-250.0, 250.0, -250.0, 250.0]]\n"
     ]
    }
   ],
   "source": [
    "print full_model['projection']"
   ]
  },
  {
   "cell_type": "markdown",
   "metadata": {},
   "source": [
    "### Observed Gravity anomaly on the observation surface "
   ]
  },
  {
   "cell_type": "markdown",
   "metadata": {},
   "source": [
    "Noise-free gravity anomaly produced by one prisms at the `coarse_grid` points on the undulating surface (Figure 4)."
   ]
  },
  {
   "cell_type": "code",
   "execution_count": 15,
   "metadata": {
    "collapsed": true
   },
   "outputs": [],
   "source": [
    "#coordinates x and y of the data\n",
    "xp, yp = regular(regular_grid['area'], regular_grid['shape'])"
   ]
  },
  {
   "cell_type": "code",
   "execution_count": 16,
   "metadata": {
    "collapsed": true
   },
   "outputs": [],
   "source": [
    "g0 = prism.gz(xp, yp, zp, full_model['model'])"
   ]
  },
  {
   "cell_type": "code",
   "execution_count": 17,
   "metadata": {
    "collapsed": false
   },
   "outputs": [
    {
     "data": {
      "image/png": "[encoded data removed]",
      "text/plain": [
       "<matplotlib.figure.Figure at 0x85b3358>"
      ]
     },
     "metadata": {},
     "output_type": "display_data"
    },
    {
     "data": {
      "text/plain": [
       "<matplotlib.figure.Figure at 0x832ff28>"
      ]
     },
     "metadata": {},
     "output_type": "display_data"
    }
   ],
   "source": [
    "file_name = '..\\\\figs\\\\Gravity_data'\n",
    "\n",
    "af.plotmap(xp, yp, g0, regular_grid['shape'], regular_grid['area'],\n",
    "                color_scheme = 'Greys_r', prism_projection = True, projection_style = '-w', \n",
    "                model = full_model['projection'], unit = 'mGal')\n",
    "\n",
    "plt.savefig(file_name+'.eps', dpi=600)\n",
    "saved_files.append(file_name+'.eps')\n",
    "\n",
    "plt.show()"
   ]
  },
  {
   "cell_type": "markdown",
   "metadata": {},
   "source": [
    "### Planar equivalent layer"
   ]
  },
  {
   "cell_type": "markdown",
   "metadata": {},
   "source": [
    "#### Parameters defining the equivalent layer"
   ]
  },
  {
   "cell_type": "code",
   "execution_count": 32,
   "metadata": {
    "collapsed": false
   },
   "outputs": [],
   "source": [
    "#horizontal plane containing the equivalent sources\n",
    "z0 = np.zeros_like(zp)\n",
    "#h = np.max(zp) + 1.4*dx\n",
    "h = 400.\n",
    "z0 += h"
   ]
  },
  {
   "cell_type": "code",
   "execution_count": 33,
   "metadata": {
    "collapsed": false
   },
   "outputs": [
    {
     "name": "stdout",
     "output_type": "stream",
     "text": [
      "Equivalent Layer constant depht equal to 400.0\n"
     ]
    }
   ],
   "source": [
    "print 'Equivalent Layer constant depht equal to', h"
   ]
  },
  {
   "cell_type": "markdown",
   "metadata": {},
   "source": [
    "##  Compute the Moments:"
   ]
  },
  {
   "cell_type": "code",
   "execution_count": 34,
   "metadata": {
    "collapsed": false
   },
   "outputs": [],
   "source": [
    "#equivalent layer\n",
    "layer = PointGrid(regular_grid['area'], h, regular_grid['shape'])"
   ]
  },
  {
   "cell_type": "markdown",
   "metadata": {},
   "source": [
    "### Gravity anomaly produced by the synthetic prisms on the planar equivalent layer "
   ]
  },
  {
   "cell_type": "code",
   "execution_count": 35,
   "metadata": {
    "collapsed": true
   },
   "outputs": [],
   "source": [
    "g_layer = prism.gz(xp, yp, z0, full_model['model'])"
   ]
  },
  {
   "cell_type": "code",
   "execution_count": 36,
   "metadata": {
    "collapsed": false
   },
   "outputs": [
    {
     "data": {
      "image/png": "[encoded data removed]",
      "text/plain": [
       "<matplotlib.figure.Figure at 0x84c7160>"
      ]
     },
     "metadata": {},
     "output_type": "display_data"
    },
    {
     "data": {
      "text/plain": [
       "<matplotlib.figure.Figure at 0x84c74a8>"
      ]
     },
     "metadata": {},
     "output_type": "display_data"
    }
   ],
   "source": [
    "file_name = '..\\\\figs\\\\Gravity_Layer'\n",
    "\n",
    "af.plotmap(xp, yp, g_layer, regular_grid['shape'], regular_grid['area'],\n",
    "                color_scheme = 'Greys_r', prism_projection = True, projection_style = '-w', \n",
    "                model = full_model['projection'], unit = 'mGal')\n",
    "\n",
    "plt.savefig(file_name+'.eps', dpi=600)\n",
    "saved_files.append(file_name+'.eps')\n",
    "\n",
    "plt.show()"
   ]
  },
  {
   "cell_type": "markdown",
   "metadata": {},
   "source": [
    "### The zeroth-order moment $ m_{0}$ is the total mass of the gravity sources (equation 35)\n",
    "$ m_{0} = \\frac{1}{2 \\, \\pi \\, c_{g} \\, G} \\int \\limits_{-\\infty}^{+\\infty}\n",
    "  \\int \\limits_{-\\infty}^{+\\infty}\n",
    "  \\delta g (x, y, z_{c}) \\, dx \\, dy \\: . $"
   ]
  },
  {
   "cell_type": "code",
   "execution_count": 49,
   "metadata": {
    "collapsed": false
   },
   "outputs": [
    {
     "name": "stdout",
     "output_type": "stream",
     "text": [
      "The zeroth-order moment =  2.526e+11 kg\n"
     ]
    }
   ],
   "source": [
    "m_0  = 0.0\n",
    "m_0 = ( 1./ (2.*np.pi*SI2MGAL*G) ) * np.sum(g_layer*regular_grid['DS'])\n",
    "print 'The zeroth-order moment = %10.3e kg' % m_0"
   ]
  },
  {
   "cell_type": "code",
   "execution_count": 39,
   "metadata": {
    "collapsed": false
   },
   "outputs": [
    {
     "data": {
      "text/plain": [
       "{'depth_model': [[500.0, 900.0]],\n",
       " 'geomag_field': (6.0, -40.5),\n",
       " 'metadata': 'Generated by synthetic_model_Single_Prims.ipynb on 08 April 2018 22:55:25 UTC',\n",
       " 'model': [<fatiando.mesher.geometry.Prism at 0x408eac8>],\n",
       " 'projection': [[-250.0, 250.0, -250.0, 250.0]]}"
      ]
     },
     "execution_count": 39,
     "metadata": {},
     "output_type": "execute_result"
    }
   ],
   "source": [
    "full_model"
   ]
  },
  {
   "cell_type": "code",
   "execution_count": 40,
   "metadata": {
    "collapsed": false
   },
   "outputs": [],
   "source": [
    "# Horizontal coordinates of the true model\n",
    "for i, sq in enumerate(full_model['projection']):\n",
    "        x1, x2, y1, y2 = sq\n",
    "       \n",
    "        \n",
    "# Depth coordinates of the true model\n",
    "for i, sq in enumerate(full_model['depth_model']):\n",
    "        top, bottom = sq\n",
    "        \n",
    "               "
   ]
  },
  {
   "cell_type": "code",
   "execution_count": 41,
   "metadata": {
    "collapsed": false
   },
   "outputs": [
    {
     "name": "stdout",
     "output_type": "stream",
     "text": [
      "{'projection': [[-250.0, 250.0, -250.0, 250.0]], 'depth_model': [[500.0, 900.0]], 'geomag_field': (6.0, -40.5), 'model': [<fatiando.mesher.geometry.Prism object at 0x000000000408EAC8>], 'metadata': 'Generated by synthetic_model_Single_Prims.ipynb on 08 April 2018 22:55:25 UTC'}\n"
     ]
    }
   ],
   "source": [
    "print full_model"
   ]
  },
  {
   "cell_type": "markdown",
   "metadata": {},
   "source": [
    "# Calculating the TRUE mass of the simulated prism"
   ]
  },
  {
   "cell_type": "code",
   "execution_count": 70,
   "metadata": {
    "collapsed": false
   },
   "outputs": [
    {
     "name": "stdout",
     "output_type": "stream",
     "text": [
      "Density of the True prism =   2670.000 kg/m3\n",
      "Total Mass of the True prism =  2.670e+11 kg  \n",
      "The zeroth-order moment      =  2.526e+11 kg\n"
     ]
    }
   ],
   "source": [
    "#calculating the TRUE volumes of the simulated sources \n",
    "Volume_1 = (x2 - x1) * (y2 - y1) * (bottom - top)\n",
    "\n",
    "rho1 = full_model['model'][0].props['density']\n",
    "print 'Density of the True prism = %10.3f kg/m3' % rho1\n",
    "\n",
    "#calculating the TRUE masses of the simulated sources \n",
    "Mass_1 = Volume_1 * rho1\n",
    "\n",
    "#calculating the total mass of the simulated sources \n",
    "\n",
    "Massa_Total = Mass_1 \n",
    "print 'Total Mass of the True prism = %10.3e kg  ' %  Massa_Total\n",
    "\n",
    "print 'The zeroth-order moment      = %10.3e kg' % m_0"
   ]
  },
  {
   "cell_type": "markdown",
   "metadata": {},
   "source": [
    "###  Difference between Total Mass of the True prism (Massa Total) and the  zeroth-order moment $m_0$"
   ]
  },
  {
   "cell_type": "code",
   "execution_count": 78,
   "metadata": {
    "collapsed": false
   },
   "outputs": [
    {
     "name": "stdout",
     "output_type": "stream",
     "text": [
      "difference =  1.440e+10 kg\n",
      "Percentage of the estimated mass by the zeroth-order moment m_0 = 94.61 %\n",
      "Percentage of the error = 5.39 %\n"
     ]
    }
   ],
   "source": [
    "print 'difference = %10.3e kg' % (Massa_Total - m_0)\n",
    "\n",
    "#Percentage of the zeroth-order moment m_0  \n",
    "\n",
    "percent_mass = (m_0 * 100.)/Massa_Total \n",
    "print 'Percentage of the estimated mass by the zeroth-order moment m_0 = %4.2f'% percent_mass,'%'\n",
    "#Percentage of the error\n",
    "percent_error = ((Massa_Total - m_0) * 100.)/Massa_Total \n",
    "print 'Percentage of the error = %4.2f'% percent_error,'%'"
   ]
  },
  {
   "cell_type": "code",
   "execution_count": 79,
   "metadata": {
    "collapsed": false
   },
   "outputs": [
    {
     "name": "stdout",
     "output_type": "stream",
     "text": [
      "100.0\n"
     ]
    }
   ],
   "source": [
    "print percent_error + percent_mass"
   ]
  },
  {
   "cell_type": "markdown",
   "metadata": {},
   "source": [
    "## The horizontal coordinates $x_{cm}$ and $y_{cm}$ of the center of mass of the gravity sources."
   ]
  },
  {
   "cell_type": "markdown",
   "metadata": {},
   "source": [
    "$x_{cm} = \\frac{1}{2 \\, \\pi \\, c_{g} \\, G \\, m_{0}} \\int \\limits_{-\\infty}^{+\\infty} \\int \\limits_{-\\infty}^{+\\infty}   x \\, \\delta g (x, y, z_{c}) \\, dx \\, dy$\n",
    "\n",
    "and\n",
    "\n",
    "$y_{cm} = \\frac{1}{2 \\, \\pi \\, c_{g} \\, G \\, m_{0}} \\int \\limits_{-\\infty}^{+\\infty} \\int \\limits_{-\\infty}^{+\\infty} y \\, \\delta g (x, y, z_{c}) \\, dx \\, dy \\: $\n",
    "\n"
   ]
  },
  {
   "cell_type": "code",
   "execution_count": 102,
   "metadata": {
    "collapsed": false
   },
   "outputs": [
    {
     "name": "stdout",
     "output_type": "stream",
     "text": [
      "The center of mass in north-south direction = -4.278e-13 \n",
      "The center of mass in east-west direction   = -3.582e-13 \n"
     ]
    }
   ],
   "source": [
    "x_cm = ( 1./ (2.*np.pi*SI2MGAL*G*m_0) ) * np.sum(xp*g_layer*regular_grid['DS'])\n",
    "print 'The center of mass in north-south direction = %10.3e ' % x_cm\n",
    "\n",
    "y_cm = ( 1./ (2.*np.pi*SI2MGAL*G*m_0) ) * np.sum(yp*g_layer*regular_grid['DS'])\n",
    "print 'The center of mass in east-west direction   = %10.3e ' % y_cm"
   ]
  },
  {
   "cell_type": "markdown",
   "metadata": {
    "collapsed": true
   },
   "source": [
    "## The First-order moments\n",
    "$ m_{x} = \\frac{1}{2 \\, \\pi \\, c_{g} \\, G}\n",
    "\\int \\limits_{-\\infty}^{+\\infty}\n",
    "  \\int \\limits_{-\\infty}^{+\\infty}\n",
    "  (x - x_{0}) \\, \\delta g (x, y, z_{c}) \\, dx \\, dy \\: $\n",
    "  \n",
    "$  m_{y} = \\frac{1}{2 \\, \\pi \\, c_{g} \\, G}\n",
    "\\int \\limits_{-\\infty}^{+\\infty}\n",
    "  \\int \\limits_{-\\infty}^{+\\infty}\n",
    "  (y - y_{0}) \\, \\delta g (x, y, z_{c}) \\, dx \\, dy \\: $\n",
    "  \n",
    " "
   ]
  },
  {
   "cell_type": "code",
   "execution_count": 103,
   "metadata": {
    "collapsed": false
   },
   "outputs": [
    {
     "name": "stdout",
     "output_type": "stream",
     "text": [
      "First-order moment in north-south direction = -1.081e-01 \n",
      "First-order moment in east-west direction   = -9.047e-02 \n"
     ]
    }
   ],
   "source": [
    "x_zero = 0.0 \n",
    "y_zero = 0.0\n",
    "\n",
    "m_x = ( 1./ (2.*np.pi*SI2MGAL*G) ) * np.sum((xp-x_zero)*g_layer*regular_grid['DS'])\n",
    "print 'First-order moment in north-south direction = %10.3e ' % m_x\n",
    "\n",
    "m_y = ( 1./ (2.*np.pi*SI2MGAL*G) ) * np.sum((yp-y_zero)*g_layer*regular_grid['DS'])\n",
    "print 'First-order moment in east-west direction   = %10.3e ' % m_y\n"
   ]
  },
  {
   "cell_type": "markdown",
   "metadata": {},
   "source": [
    "## The second-order moment $m_{xy}$, the difference between the second-order moments $m_{xx}$ and $m_{yy}$"
   ]
  },
  {
   "cell_type": "markdown",
   "metadata": {},
   "source": [
    "$\n",
    "m_{xy} = \\frac{1}{2 \\, \\pi \\, c_{g} \\, G}\n",
    "\\int \\limits_{-\\infty}^{+\\infty}\n",
    "  \\int \\limits_{-\\infty}^{+\\infty}\n",
    "  (x - x_{0}) \\, (y - y_{0}) \\, \\delta g (x, y, z_{c}) \\, dx \\, dy \\: ,\n",
    "$\n",
    "\n",
    "$ m_{yy} - m_{xx} = \\frac{1}{2 \\, \\pi \\, c_{g} \\, G}\n",
    "\\int \\limits_{-\\infty}^{+\\infty}\n",
    "  \\int \\limits_{-\\infty}^{+\\infty}\n",
    "  \\left[ (y - y_{0})^{2} - (x - x_{0})^{2} \\right] \\, \\delta g (x, y, z_{c}) \\, dx \\, dy \\: ,\n",
    "$"
   ]
  },
  {
   "cell_type": "code",
   "execution_count": 104,
   "metadata": {
    "collapsed": false
   },
   "outputs": [
    {
     "name": "stdout",
     "output_type": "stream",
     "text": [
      "Second-order moment m_xy = -6.948e+02 \n"
     ]
    }
   ],
   "source": [
    "m_xy = ( 1./ (2.*np.pi*SI2MGAL*G) ) * np.sum((xp-x_zero)*(yp-y_zero)*(g_layer*regular_grid['DS']))\n",
    "print 'Second-order moment m_xy = %10.3e ' % m_xy"
   ]
  },
  {
   "cell_type": "code",
   "execution_count": 109,
   "metadata": {
    "collapsed": false
   },
   "outputs": [
    {
     "name": "stdout",
     "output_type": "stream",
     "text": [
      "Second-order moment difference = -4.963e+01 \n"
     ]
    }
   ],
   "source": [
    "variance =((yp - y_zero)* (yp -y_zero)) -  ((xp-x_zero)*(xp-x_zero))\n",
    "myy_mxx = ( 1./ (2.*np.pi*SI2MGAL*G) ) * np.sum(variance *(g_layer*regular_grid['DS']))\n",
    "print 'Second-order moment difference = %10.3e ' % myy_mxx"
   ]
  }
 ],
 "metadata": {
  "anaconda-cloud": {},
  "kernelspec": {
   "display_name": "Python 2",
   "language": "python",
   "name": "python2"
  },
  "language_info": {
   "codemirror_mode": {
    "name": "ipython",
    "version": 2
   },
   "file_extension": ".py",
   "mimetype": "text/x-python",
   "name": "python",
   "nbconvert_exporter": "python",
   "pygments_lexer": "ipython2",
   "version": "2.7.13"
  }
 },
 "nbformat": 4,
 "nbformat_minor": 0
}
