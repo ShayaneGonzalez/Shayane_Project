{
 "cells": [
  {
   "cell_type": "markdown",
   "metadata": {},
   "source": [
    "# Synthetic data"
   ]
  },
  {
   "cell_type": "markdown",
   "metadata": {},
   "source": [
    "### Brief description"
   ]
  },
  {
   "cell_type": "markdown",
   "metadata": {},
   "source": [
    "This Jupyter notebook is a supplementary material contaning the code needed to generate part of the synthetic data and reproduce part of the figures and results of the manuscript. This code uses the open-source Python toolkit for geophysical modeling and inversion [Fatiando a Terra](http://www.fatiando.org/index.html).\n",
    "\n",
    "This code calculates all the synthetic data sets used in the numerical applications."
   ]
  },
  {
   "cell_type": "markdown",
   "metadata": {},
   "source": [
    "**Note:** A Jupyter notebook is a document that incorporates text, results, figures, and the Python source code to produce them. If you are viewing this from the URL https://nbviewer.jupyter.org/, the document will be static (not executable). To run the code, you will need to download the notebook and install all the required dependencies. For installing the Fatiando a Terra and all the required dependencies, please follow the instructions shown in http://www.fatiando.org/install.html."
   ]
  },
  {
   "cell_type": "markdown",
   "metadata": {},
   "source": [
    "### Import the required dependencies"
   ]
  },
  {
   "cell_type": "code",
   "execution_count": 1,
   "metadata": {
    "collapsed": true
   },
   "outputs": [],
   "source": [
    "%matplotlib inline\n",
    "\n",
    "import numpy as np\n",
    "import matplotlib.pyplot as plt\n",
    "from matplotlib import ticker\n",
    "from mpl_toolkits.axes_grid1 import AxesGrid, make_axes_locatable\n",
    "import cPickle as pickle\n",
    "import datetime\n",
    "from IPython.display import Markdown as md\n",
    "from IPython.display import display as dp\n",
    "import string as st\n",
    "\n",
    "from __future__ import division\n",
    "\n",
    "import auxiliary_functions as af\n",
    "\n",
    "import fatiando\n",
    "from fatiando import gridder\n",
    "from fatiando.mesher import Prism\n",
    "from fatiando.gridder import regular\n",
    "from fatiando.gravmag import prism\n",
    "from fatiando.vis import myv\n",
    "from fatiando.utils import ang2vec, contaminate\n",
    "from fatiando.constants import G"
   ]
  },
  {
   "cell_type": "code",
   "execution_count": 2,
   "metadata": {
    "collapsed": false
   },
   "outputs": [],
   "source": [
    "plt.rcParams['font.size'] = 6\n",
    "plt.rcParams['axes.labelsize'] = 8\n",
    "plt.rcParams['xtick.labelsize'] = 6\n",
    "plt.rcParams['ytick.labelsize'] = 6\n",
    "plt.rcParams['legend.fontsize'] = 6\n",
    "plt.rcParams['xtick.major.pad'] = 3\n",
    "plt.rcParams['ytick.major.pad'] = 3"
   ]
  },
  {
   "cell_type": "code",
   "execution_count": 3,
   "metadata": {
    "collapsed": true
   },
   "outputs": [],
   "source": [
    "notebook_name = 'synthetic_data.ipynb'"
   ]
  },
  {
   "cell_type": "code",
   "execution_count": 4,
   "metadata": {
    "collapsed": false
   },
   "outputs": [
    {
     "name": "stdout",
     "output_type": "stream",
     "text": [
      "Version of Fatiando a Terra used: unknown\n"
     ]
    }
   ],
   "source": [
    "print(\"Version of Fatiando a Terra used: {}\".format(fatiando.__version__))"
   ]
  },
  {
   "cell_type": "code",
   "execution_count": 5,
   "metadata": {
    "collapsed": true
   },
   "outputs": [],
   "source": [
    "saved_files = [] #list of saved files"
   ]
  },
  {
   "cell_type": "markdown",
   "metadata": {},
   "source": [
    "### Load the synthetic model formed by two rectangular prisms"
   ]
  },
  {
   "cell_type": "code",
   "execution_count": 6,
   "metadata": {
    "collapsed": false
   },
   "outputs": [],
   "source": [
    "with open('..\\\\data\\\\model.pickle') as f:\n",
    "        full_model = pickle.load(f)"
   ]
  },
  {
   "cell_type": "code",
   "execution_count": 7,
   "metadata": {
    "collapsed": true
   },
   "outputs": [],
   "source": [
    "with open('..\\\\data\\\\model_pole.pickle') as f:\n",
    "        full_model_pole = pickle.load(f)"
   ]
  },
  {
   "cell_type": "markdown",
   "metadata": {},
   "source": [
    "### Load the 2D grid of points"
   ]
  },
  {
   "cell_type": "code",
   "execution_count": 8,
   "metadata": {
    "collapsed": false
   },
   "outputs": [],
   "source": [
    "with open('..\\\\data\\\\regular_grid.pickle') as f:\n",
    "        regular_grid = pickle.load(f)"
   ]
  },
  {
   "cell_type": "code",
   "execution_count": 9,
   "metadata": {
    "collapsed": true
   },
   "outputs": [],
   "source": [
    "with open('..\\\\data\\\\airborne_survey.pickle') as f:\n",
    "        airborne_survey = pickle.load(f)"
   ]
  },
  {
   "cell_type": "code",
   "execution_count": 10,
   "metadata": {
    "collapsed": true
   },
   "outputs": [],
   "source": [
    "with open('..\\\\data\\\\interpolating.pickle') as f:\n",
    "        interpolating = pickle.load(f)"
   ]
  },
  {
   "cell_type": "code",
   "execution_count": 11,
   "metadata": {
    "collapsed": true
   },
   "outputs": [],
   "source": [
    "with open('..\\\\data\\\\coarse_grid.pickle') as f:\n",
    "        coarse_grid = pickle.load(f)"
   ]
  },
  {
   "cell_type": "markdown",
   "metadata": {},
   "source": [
    "### Define the coordinates on the observation surface"
   ]
  },
  {
   "cell_type": "markdown",
   "metadata": {},
   "source": [
    "#### Regular grid"
   ]
  },
  {
   "cell_type": "code",
   "execution_count": 12,
   "metadata": {
    "collapsed": true
   },
   "outputs": [],
   "source": [
    "#coordinates x and y of the data\n",
    "xr, yr = regular(regular_grid['area'], regular_grid['shape'])\n",
    "\n",
    "#vertical coordinates of the data\n",
    "zr = af.observation_surface(xr,yr)"
   ]
  },
  {
   "cell_type": "code",
   "execution_count": 13,
   "metadata": {
    "collapsed": false
   },
   "outputs": [
    {
     "name": "stdout",
     "output_type": "stream",
     "text": [
      "zr min = -1249.971 \n",
      " zr max = -551.307\n"
     ]
    }
   ],
   "source": [
    "print 'zr min = %.3f \\n zr max = %.3f' % (np.min(zr), np.max(zr))"
   ]
  },
  {
   "cell_type": "code",
   "execution_count": 14,
   "metadata": {
    "collapsed": false
   },
   "outputs": [
    {
     "data": {
      "image/png": "[encoded data removed]",
      "text/plain": [
       "<matplotlib.figure.Figure at 0x3f52e80>"
      ]
     },
     "metadata": {},
     "output_type": "display_data"
    }
   ],
   "source": [
    "af.plotmap(xr, yr, zr, regular_grid['shape'], regular_grid['area'], \n",
    "           color_scheme = 'Greys_r',\n",
    "           prism_projection = True, projection_style = '-w', \n",
    "           model = full_model['projection'], unit = 'm')"
   ]
  },
  {
   "cell_type": "code",
   "execution_count": 15,
   "metadata": {
    "collapsed": true
   },
   "outputs": [],
   "source": [
    "caption = \"Undulating surface (grayscale) on which we calculate the synthetic data produced by the simulated \\\n",
    "prisms (Figure 3). The white rectangles represent the horizontal projection \\\n",
    "of the simulated prisms.\""
   ]
  },
  {
   "cell_type": "code",
   "execution_count": 16,
   "metadata": {
    "collapsed": false
   },
   "outputs": [
    {
     "data": {
      "text/markdown": [
       "Undulating surface (grayscale) on which we calculate the synthetic data produced by the simulated prisms (Figure 3). The white rectangles represent the horizontal projection of the simulated prisms."
      ],
      "text/plain": [
       "<IPython.core.display.Markdown object>"
      ]
     },
     "metadata": {},
     "output_type": "display_data"
    }
   ],
   "source": [
    "dp(md(caption))"
   ]
  },
  {
   "cell_type": "markdown",
   "metadata": {},
   "source": [
    "#### Airborne survey"
   ]
  },
  {
   "cell_type": "code",
   "execution_count": 17,
   "metadata": {
    "collapsed": true
   },
   "outputs": [],
   "source": [
    "#coordinates x and y of the data\n",
    "xa, ya = regular(airborne_survey['area'], airborne_survey['shape'])\n",
    "\n",
    "#vertical coordinates of the data\n",
    "za = af.observation_surface(xa,ya)"
   ]
  },
  {
   "cell_type": "code",
   "execution_count": 18,
   "metadata": {
    "collapsed": false
   },
   "outputs": [
    {
     "data": {
      "image/png": "[encoded data removed]",
      "text/plain": [
       "<matplotlib.figure.Figure at 0x3fae240>"
      ]
     },
     "metadata": {},
     "output_type": "display_data"
    }
   ],
   "source": [
    "af.plotmap(xa, ya, za, airborne_survey['shape'], airborne_survey['area'], \n",
    "           color_scheme = 'Greys_r',  \n",
    "           prism_projection = True, projection_style = '-w', \n",
    "           model = full_model['projection'], unit = 'm',\n",
    "           observations=True, point_style='.k', point_size=1)"
   ]
  },
  {
   "cell_type": "code",
   "execution_count": 19,
   "metadata": {
    "collapsed": false
   },
   "outputs": [],
   "source": [
    "caption = \"Undulating surface on which we calculate the total-field anomaly (Figure 13a) and the total-gradient \\\n",
    "amplitude (Figure 14a) produced by the simulated prisms (Figure 3). The white rectangles represent the \\\n",
    "horizontal projection of the simulated prisms (Figure 3) and the black dots represent the horizontal location of a \\\n",
    "data set simulating an airborne survey. The black dots are located on a regular grid of $%d \\\\times %d$ points, \\\n",
    "separated by $\\\\approx %.1f$ m and $\\\\approx %.1f$ m intervals along, respectively, the $x$ and $y$ directions.\" \\\n",
    "% (airborne_survey['shape'][0], airborne_survey['shape'][1], airborne_survey['spacing'][0], airborne_survey['spacing'][1])"
   ]
  },
  {
   "cell_type": "code",
   "execution_count": 20,
   "metadata": {
    "collapsed": false
   },
   "outputs": [
    {
     "data": {
      "text/markdown": [
       "Undulating surface on which we calculate the total-field anomaly (Figure 13a) and the total-gradient amplitude (Figure 14a) produced by the simulated prisms (Figure 3). The white rectangles represent the horizontal projection of the simulated prisms (Figure 3) and the black dots represent the horizontal location of a data set simulating an airborne survey. The black dots are located on a regular grid of $120 \\times 30$ points, separated by $\\approx 252.1$ m and $\\approx 1034.5$ m intervals along, respectively, the $x$ and $y$ directions."
      ],
      "text/plain": [
       "<IPython.core.display.Markdown object>"
      ]
     },
     "metadata": {},
     "output_type": "display_data"
    }
   ],
   "source": [
    "dp(md(caption))"
   ]
  },
  {
   "cell_type": "markdown",
   "metadata": {},
   "source": [
    "#### Interpolating points"
   ]
  },
  {
   "cell_type": "code",
   "execution_count": 21,
   "metadata": {
    "collapsed": true
   },
   "outputs": [],
   "source": [
    "#coordinates x and y of the data\n",
    "xi, yi = regular(interpolating['area'], interpolating['shape'])\n",
    "\n",
    "#vertical coordinates of the data\n",
    "zi = af.observation_surface(xi,yi)"
   ]
  },
  {
   "cell_type": "code",
   "execution_count": 22,
   "metadata": {
    "collapsed": false
   },
   "outputs": [
    {
     "data": {
      "image/png": "[encoded data removed]",
      "text/plain": [
       "<matplotlib.figure.Figure at 0x11dd4ef0>"
      ]
     },
     "metadata": {},
     "output_type": "display_data"
    }
   ],
   "source": [
    "af.plotmap(xi, yi, zi, interpolating['shape'], interpolating['area'], \n",
    "           color_scheme = 'Greys_r', \n",
    "           prism_projection = True, projection_style = '-w', \n",
    "           model = full_model['projection'], unit = 'm', \n",
    "           observations=True, point_style='.r', point_size=1)"
   ]
  },
  {
   "cell_type": "code",
   "execution_count": 23,
   "metadata": {
    "collapsed": false
   },
   "outputs": [],
   "source": [
    "caption = \"Undulating surface on which we calculate the synthetic data \\\n",
    "produced by the simulated prisms (Figure 3). The white rectangles represent the \\\n",
    "horizontal projection of the simulated prisms and the red dots represent the horizontal location of the points \\\n",
    "at which the synthetic data are interpolated. The red dots are located on a regular grid of $%d \\\\times %d$ \\\n",
    "points, separated by $\\\\approx %.1f$ m and \\\n",
    "$\\\\approx %.1f$ m intervals along, respectively, the $x$ and $y$ directions.\" \\\n",
    "% (interpolating['shape'][0], interpolating['shape'][1], interpolating['spacing'][0], interpolating['spacing'][1])"
   ]
  },
  {
   "cell_type": "code",
   "execution_count": 24,
   "metadata": {
    "collapsed": false
   },
   "outputs": [
    {
     "data": {
      "text/markdown": [
       "Undulating surface on which we calculate the synthetic data produced by the simulated prisms (Figure 3). The white rectangles represent the horizontal projection of the simulated prisms and the red dots represent the horizontal location of the points at which the synthetic data are interpolated. The red dots are located on a regular grid of $120 \\times 29$ points, separated by $\\approx 252.1$ m and $\\approx 1034.5$ m intervals along, respectively, the $x$ and $y$ directions."
      ],
      "text/plain": [
       "<IPython.core.display.Markdown object>"
      ]
     },
     "metadata": {},
     "output_type": "display_data"
    }
   ],
   "source": [
    "dp(md(caption))"
   ]
  },
  {
   "cell_type": "markdown",
   "metadata": {},
   "source": [
    "#### Coarse grid"
   ]
  },
  {
   "cell_type": "code",
   "execution_count": 25,
   "metadata": {
    "collapsed": true
   },
   "outputs": [],
   "source": [
    "#coordinates x and y of the data\n",
    "xc, yc = regular(coarse_grid['area'], coarse_grid['shape'])\n",
    "\n",
    "#vertical coordinates of the data\n",
    "zc = af.observation_surface(xc,yc)"
   ]
  },
  {
   "cell_type": "markdown",
   "metadata": {},
   "source": [
    "### Synthetic data calculated at the regular grid points on the observation surface"
   ]
  },
  {
   "cell_type": "markdown",
   "metadata": {},
   "source": [
    "#### Gravity anomaly"
   ]
  },
  {
   "cell_type": "markdown",
   "metadata": {},
   "source": [
    "Gravity anomaly (noise-free) produced by the synthetic prisms (Figure 3) on the observation surface (Figure 4). This anomaly is calculated with equation 1."
   ]
  },
  {
   "cell_type": "code",
   "execution_count": 26,
   "metadata": {
    "collapsed": false
   },
   "outputs": [],
   "source": [
    "gz_obsur_rgrid = prism.gz(xr,yr,zr,full_model['model'])"
   ]
  },
  {
   "cell_type": "code",
   "execution_count": 27,
   "metadata": {
    "collapsed": false
   },
   "outputs": [
    {
     "data": {
      "image/png": "[encoded data removed]",
      "text/plain": [
       "<matplotlib.figure.Figure at 0x122729b0>"
      ]
     },
     "metadata": {},
     "output_type": "display_data"
    }
   ],
   "source": [
    "af.plotmap(xr, yr, gz_obsur_rgrid, regular_grid['shape'], regular_grid['area'], \n",
    "           color_scheme = 'Greys', \n",
    "           prism_projection = True, projection_style = '-k', \n",
    "           model = full_model['projection'], unit = 'mGal')"
   ]
  },
  {
   "cell_type": "code",
   "execution_count": 28,
   "metadata": {
    "collapsed": true
   },
   "outputs": [],
   "source": [
    "caption = \"Gravity anomaly (noise-free) produced by the synthetic bodies (Figure 3) \\\n",
    "on a regular grid of $%d \\\\times %d$ points located on the undulating surface shown in Figure 4. \\\n",
    "The black rectangles represent the horizontal projection of the synthetic bodies (Figure 3).\" \\\n",
    "% (regular_grid['shape'][0], regular_grid['shape'][1])"
   ]
  },
  {
   "cell_type": "code",
   "execution_count": 29,
   "metadata": {
    "collapsed": false
   },
   "outputs": [
    {
     "data": {
      "text/markdown": [
       "Gravity anomaly (noise-free) produced by the synthetic bodies (Figure 3) on a regular grid of $180 \\times 180$ points located on the undulating surface shown in Figure 4. The black rectangles represent the horizontal projection of the synthetic bodies (Figure 3)."
      ],
      "text/plain": [
       "<IPython.core.display.Markdown object>"
      ]
     },
     "metadata": {},
     "output_type": "display_data"
    }
   ],
   "source": [
    "dp(md(caption))"
   ]
  },
  {
   "cell_type": "markdown",
   "metadata": {},
   "source": [
    "#### Total-field anomaly"
   ]
  },
  {
   "cell_type": "markdown",
   "metadata": {},
   "source": [
    "Total-field anomaly (noise-free) produced by the synthetic prisms (Figure 3) on the observation surface (Figure 4). This anomaly is calculated with equation 8."
   ]
  },
  {
   "cell_type": "code",
   "execution_count": 30,
   "metadata": {
    "collapsed": true
   },
   "outputs": [],
   "source": [
    "inc, dec = full_model['geomag_field']"
   ]
  },
  {
   "cell_type": "code",
   "execution_count": 31,
   "metadata": {
    "collapsed": false
   },
   "outputs": [],
   "source": [
    "tf_obsur_rgrid = prism.tf(xr,yr,zr,full_model['model'],inc,dec)"
   ]
  },
  {
   "cell_type": "code",
   "execution_count": 32,
   "metadata": {
    "collapsed": false
   },
   "outputs": [
    {
     "data": {
      "image/png": "[encoded data removed]",
      "text/plain": [
       "<matplotlib.figure.Figure at 0x119ac8d0>"
      ]
     },
     "metadata": {},
     "output_type": "display_data"
    }
   ],
   "source": [
    "af.plotmap(xr, yr, tf_obsur_rgrid, regular_grid['shape'], regular_grid['area'], \n",
    "           color_scheme = 'Greys', \n",
    "           prism_projection = True, projection_style = '-k', \n",
    "           model = full_model['projection'], unit = 'nT', \n",
    "           ranges = af.scale_bounds(tf_obsur_rgrid, div=True))"
   ]
  },
  {
   "cell_type": "code",
   "execution_count": 33,
   "metadata": {
    "collapsed": true
   },
   "outputs": [],
   "source": [
    "caption = \"Total-field anomaly (noise-free) produced by the synthetic bodies (Figure 3) \\\n",
    "on a regular grid of $%d \\\\times %d$ points located on the undulating surface shown in Figure 4. \\\n",
    "The black rectangles represent the horizontal projection of the synthetic bodies (Figure 3).\" \\\n",
    "% (regular_grid['shape'][0], regular_grid['shape'][1])"
   ]
  },
  {
   "cell_type": "code",
   "execution_count": 34,
   "metadata": {
    "collapsed": false
   },
   "outputs": [
    {
     "data": {
      "text/markdown": [
       "Total-field anomaly (noise-free) produced by the synthetic bodies (Figure 3) on a regular grid of $180 \\times 180$ points located on the undulating surface shown in Figure 4. The black rectangles represent the horizontal projection of the synthetic bodies (Figure 3)."
      ],
      "text/plain": [
       "<IPython.core.display.Markdown object>"
      ]
     },
     "metadata": {},
     "output_type": "display_data"
    }
   ],
   "source": [
    "dp(md(caption))"
   ]
  },
  {
   "cell_type": "markdown",
   "metadata": {},
   "source": [
    "#### True RTP anomaly"
   ]
  },
  {
   "cell_type": "markdown",
   "metadata": {},
   "source": [
    "True RTP anomaly (noise-free) produced by the produced by the synthetic prisms (Figure 3) on the observation surface (Figure 4). This anomaly is calculated with equation 8."
   ]
  },
  {
   "cell_type": "code",
   "execution_count": 35,
   "metadata": {
    "collapsed": false
   },
   "outputs": [],
   "source": [
    "inc, dec = full_model_pole['geomag_field']"
   ]
  },
  {
   "cell_type": "code",
   "execution_count": 36,
   "metadata": {
    "collapsed": false
   },
   "outputs": [],
   "source": [
    "tf_RTP_obsur_rgrid = prism.tf(xr,yr,zr,full_model_pole['model'],inc,dec)"
   ]
  },
  {
   "cell_type": "code",
   "execution_count": 37,
   "metadata": {
    "collapsed": false
   },
   "outputs": [
    {
     "data": {
      "image/png": "[encoded data removed]",
      "text/plain": [
       "<matplotlib.figure.Figure at 0x1216a240>"
      ]
     },
     "metadata": {},
     "output_type": "display_data"
    }
   ],
   "source": [
    "af.plotmap(xr, yr, tf_RTP_obsur_rgrid, regular_grid['shape'], regular_grid['area'], \n",
    "           color_scheme = 'Greys', \n",
    "           prism_projection = True, projection_style = '-k', \n",
    "           model = full_model_pole['projection'], unit = 'nT')"
   ]
  },
  {
   "cell_type": "code",
   "execution_count": 38,
   "metadata": {
    "collapsed": true
   },
   "outputs": [],
   "source": [
    "caption = \"True RTP anomaly (noise-free) produced by the synthetic bodies (Figure 3) \\\n",
    "on a regular grid of $%d \\\\times %d$ points located on the undulating surface shown in Figure 4. \\\n",
    "The black rectangles represent the horizontal projection of the synthetic bodies (Figure 3).\" \\\n",
    "% (regular_grid['shape'][0], regular_grid['shape'][1])"
   ]
  },
  {
   "cell_type": "code",
   "execution_count": 39,
   "metadata": {
    "collapsed": false
   },
   "outputs": [
    {
     "data": {
      "text/markdown": [
       "True RTP anomaly (noise-free) produced by the synthetic bodies (Figure 3) on a regular grid of $180 \\times 180$ points located on the undulating surface shown in Figure 4. The black rectangles represent the horizontal projection of the synthetic bodies (Figure 3)."
      ],
      "text/plain": [
       "<IPython.core.display.Markdown object>"
      ]
     },
     "metadata": {},
     "output_type": "display_data"
    }
   ],
   "source": [
    "dp(md(caption))"
   ]
  },
  {
   "cell_type": "markdown",
   "metadata": {},
   "source": [
    "### Synthetic data calculated at the simulated airborne survey points on the observation surface and continuation surface"
   ]
  },
  {
   "cell_type": "markdown",
   "metadata": {},
   "source": [
    "#### Gravity anomaly"
   ]
  },
  {
   "cell_type": "code",
   "execution_count": 40,
   "metadata": {
    "collapsed": false
   },
   "outputs": [],
   "source": [
    "gz_noise = 1.\n",
    "gz_obsur_arsurvey = contaminate(prism.gz(xa,ya,za,full_model['model']), gz_noise, seed=32)"
   ]
  },
  {
   "cell_type": "code",
   "execution_count": 41,
   "metadata": {
    "collapsed": false
   },
   "outputs": [
    {
     "data": {
      "image/png": "[encoded data removed]",
      "text/plain": [
       "<matplotlib.figure.Figure at 0x3f52d30>"
      ]
     },
     "metadata": {},
     "output_type": "display_data"
    }
   ],
   "source": [
    "af.plotmap(xa, ya, gz_obsur_arsurvey, airborne_survey['shape'], airborne_survey['area'],\n",
    "           color_scheme = 'Greys',  \n",
    "            prism_projection = True, projection_style = '-k', \n",
    "            model = full_model['projection'], unit = 'mGal')"
   ]
  },
  {
   "cell_type": "code",
   "execution_count": 42,
   "metadata": {
    "collapsed": false
   },
   "outputs": [],
   "source": [
    "caption = \"Gravity anomaly produced by the synthetic prisms (Figure 3) at the points simulating an \\\n",
    "airborn survey on the undulating surface (Figure 4). This anomaly is calculated with equation 1 \\\n",
    "and is contaminated by a pseudo-random Gaussian noise having null mean and standard deviation equal to %.1f mGal. \\\n",
    "The black rectangles represent the horizontal projection of the simulated prisms.\" \\\n",
    "% (gz_noise)"
   ]
  },
  {
   "cell_type": "code",
   "execution_count": 43,
   "metadata": {
    "collapsed": false
   },
   "outputs": [
    {
     "data": {
      "text/markdown": [
       "Gravity anomaly produced by the synthetic prisms (Figure 3) at the points simulating an airborn survey on the undulating surface (Figure 4). This anomaly is calculated with equation 1 and is contaminated by a pseudo-random Gaussian noise having null mean and standard deviation equal to 1.0 mGal. The black rectangles represent the horizontal projection of the simulated prisms."
      ],
      "text/plain": [
       "<IPython.core.display.Markdown object>"
      ]
     },
     "metadata": {},
     "output_type": "display_data"
    }
   ],
   "source": [
    "dp(md(caption))"
   ]
  },
  {
   "cell_type": "markdown",
   "metadata": {},
   "source": [
    "#### Total-field anomaly"
   ]
  },
  {
   "cell_type": "code",
   "execution_count": 44,
   "metadata": {
    "collapsed": true
   },
   "outputs": [],
   "source": [
    "inc, dec = full_model['geomag_field']"
   ]
  },
  {
   "cell_type": "code",
   "execution_count": 45,
   "metadata": {
    "collapsed": false
   },
   "outputs": [],
   "source": [
    "tf_noise = 5.\n",
    "tf_obsur_arsurvey = contaminate(prism.tf(xa,ya,za,full_model['model'],inc,dec), tf_noise, seed=47)"
   ]
  },
  {
   "cell_type": "code",
   "execution_count": 46,
   "metadata": {
    "collapsed": false
   },
   "outputs": [
    {
     "data": {
      "image/png": "[encoded data removed]",
      "text/plain": [
       "<matplotlib.figure.Figure at 0x127cfef0>"
      ]
     },
     "metadata": {},
     "output_type": "display_data"
    }
   ],
   "source": [
    "af.plotmap(xa, ya, tf_obsur_arsurvey, airborne_survey['shape'], airborne_survey['area'], \n",
    "           color_scheme = 'Greys', \n",
    "           prism_projection = True, projection_style = '-k', \n",
    "           model = full_model['projection'], unit = 'nT', \n",
    "           ranges = af.scale_bounds(tf_obsur_arsurvey, div=True))"
   ]
  },
  {
   "cell_type": "code",
   "execution_count": 47,
   "metadata": {
    "collapsed": true
   },
   "outputs": [],
   "source": [
    "caption = \"Total-field anomaly produced by the synthetic prisms (Figure 3) at \\\n",
    "the points simulating an airborne survey located on the undulating surface (Figure 4). \\\n",
    "This anomaly is calculated with equation 1 and is contaminated by a pseudo-random Gaussian noise having \\\n",
    "null mean and standard deviation equal to %.1f nT. The black rectangles represent the horizontal projection \\\n",
    "of the simulated prisms.\" % (tf_noise)"
   ]
  },
  {
   "cell_type": "code",
   "execution_count": 48,
   "metadata": {
    "collapsed": false
   },
   "outputs": [
    {
     "data": {
      "text/markdown": [
       "Total-field anomaly produced by the synthetic prisms (Figure 3) at the points simulating an airborne survey located on the undulating surface (Figure 4). This anomaly is calculated with equation 1 and is contaminated by a pseudo-random Gaussian noise having null mean and standard deviation equal to 5.0 nT. The black rectangles represent the horizontal projection of the simulated prisms."
      ],
      "text/plain": [
       "<IPython.core.display.Markdown object>"
      ]
     },
     "metadata": {},
     "output_type": "display_data"
    }
   ],
   "source": [
    "dp(md(caption))"
   ]
  },
  {
   "cell_type": "code",
   "execution_count": 49,
   "metadata": {
    "collapsed": false
   },
   "outputs": [],
   "source": [
    "#Save the total-field anomaly in a txt file\n",
    "now = datetime.datetime.utcnow().strftime('%d %B %Y %H:%M:%S UTC')\n",
    "header = \"\"\"# Generated by {name} on {date}\n",
    "# Noise-corrupted total-field anomaly calculated at a regular grid simulating\n",
    "# an airborne survey on the observation surface\n",
    "# shape (nx, ny): {shape}\n",
    "# area [x1, x2, y1, y2]: {area}\n",
    "# x (m)    y (m)    z (m)    total-field anomaly (nT)\n",
    "\"\"\".format(name=notebook_name, date=now, shape=regular_grid['shape'], area=regular_grid['area'])\n",
    "file_name = '..\\\\data\\\\tf_noisy_asur.txt'\n",
    "with open(file_name, 'w') as f:\n",
    "    f.write(header)\n",
    "    np.savetxt(f, zip(xa, ya, za, tf_obsur_arsurvey), fmt='%.5f')\n",
    "saved_files.append(file_name)"
   ]
  },
  {
   "cell_type": "markdown",
   "metadata": {},
   "source": [
    "#### Total gradient amplitude"
   ]
  },
  {
   "cell_type": "code",
   "execution_count": 50,
   "metadata": {
    "collapsed": true
   },
   "outputs": [],
   "source": [
    "inc, dec = full_model['geomag_field']"
   ]
  },
  {
   "cell_type": "code",
   "execution_count": 51,
   "metadata": {
    "collapsed": true
   },
   "outputs": [],
   "source": [
    "delta = 5."
   ]
  },
  {
   "cell_type": "code",
   "execution_count": 52,
   "metadata": {
    "collapsed": false
   },
   "outputs": [],
   "source": [
    "dxtf_obsur_arsurvey = (prism.tf(xa+delta,ya,za,full_model['model'],inc,dec) - \\\n",
    "                       prism.tf(xa-delta,ya,za,full_model['model'],inc,dec))/(2.*delta)\n",
    "\n",
    "dytf_obsur_arsurvey = (prism.tf(xa,ya+delta,za,full_model['model'],inc,dec) - \\\n",
    "                       prism.tf(xa,ya-delta,za,full_model['model'],inc,dec))/(2.*delta)\n",
    "\n",
    "dztf_obsur_arsurvey = (prism.tf(xa,ya,za+delta,full_model['model'],inc,dec) - \\\n",
    "                       prism.tf(xa,ya,za-delta,full_model['model'],inc,dec))/(2.*delta)"
   ]
  },
  {
   "cell_type": "code",
   "execution_count": 53,
   "metadata": {
    "collapsed": true
   },
   "outputs": [],
   "source": [
    "tga = np.sqrt(dxtf_obsur_arsurvey**2. + dytf_obsur_arsurvey**2. + dztf_obsur_arsurvey**2.)"
   ]
  },
  {
   "cell_type": "code",
   "execution_count": 54,
   "metadata": {
    "collapsed": false
   },
   "outputs": [
    {
     "data": {
      "image/png": "[encoded data removed]",
      "text/plain": [
       "<matplotlib.figure.Figure at 0x138d6128>"
      ]
     },
     "metadata": {},
     "output_type": "display_data"
    }
   ],
   "source": [
    "af.plotmap(xa, ya, tga, airborne_survey['shape'], airborne_survey['area'], \n",
    "           color_scheme = 'Greys',  \n",
    "           prism_projection = True, projection_style = '-k', \n",
    "           model = full_model['projection'], unit = 'nT/m')"
   ]
  },
  {
   "cell_type": "code",
   "execution_count": 55,
   "metadata": {
    "collapsed": true
   },
   "outputs": [],
   "source": [
    "caption = \"Total gradient amplitude (noise-free) produced by the synthetic prisms (Figure 3) at \\\n",
    "the points simulating an airborne survey located on the undulating surface (Figure 4). \\\n",
    "The derivatives were calculated by using equation 8 and a central finite difference approximation with constant \\\n",
    "spacing of %.1f m. The black rectangles represent the horizontal projection \\\n",
    "of the simulated prisms.\" % (delta)"
   ]
  },
  {
   "cell_type": "code",
   "execution_count": 56,
   "metadata": {
    "collapsed": false
   },
   "outputs": [
    {
     "data": {
      "text/markdown": [
       "Total gradient amplitude (noise-free) produced by the synthetic prisms (Figure 3) at the points simulating an airborne survey located on the undulating surface (Figure 4). The derivatives were calculated by using equation 8 and a central finite difference approximation with constant spacing of 5.0 m. The black rectangles represent the horizontal projection of the simulated prisms."
      ],
      "text/plain": [
       "<IPython.core.display.Markdown object>"
      ]
     },
     "metadata": {},
     "output_type": "display_data"
    }
   ],
   "source": [
    "dp(md(caption))"
   ]
  },
  {
   "cell_type": "code",
   "execution_count": 57,
   "metadata": {
    "collapsed": false
   },
   "outputs": [],
   "source": [
    "#Save the total-field anomaly in a txt file\n",
    "now = datetime.datetime.utcnow().strftime('%d %B %Y %H:%M:%S UTC')\n",
    "header = \"\"\"# Generated by {name} on {date}\n",
    "# Noise-free total gradient amplitude calculated numerically at a regular \n",
    "# grid simulating an airborne survey on the observation surface\n",
    "# shape (nx, ny): {shape}\n",
    "# area [x1, x2, y1, y2]: {area}\n",
    "# x (m)    y (m)    z (m)    total gradient amplitude (nT/m)\n",
    "\"\"\".format(name=notebook_name, date=now, shape=regular_grid['shape'], area=regular_grid['area'])\n",
    "file_name = '..\\\\data\\\\tga_asur.txt'\n",
    "with open(file_name, 'w') as f:\n",
    "    f.write(header)\n",
    "    np.savetxt(f, zip(xa, ya, za, tga), fmt='%.5f')\n",
    "saved_files.append(file_name)"
   ]
  },
  {
   "cell_type": "markdown",
   "metadata": {},
   "source": [
    "#### Total-field anomaly at the continuation surface"
   ]
  },
  {
   "cell_type": "code",
   "execution_count": 58,
   "metadata": {
    "collapsed": false
   },
   "outputs": [],
   "source": [
    "#vertical coordinates of the data\n",
    "zcont_cte = -1400.\n",
    "zcont = np.zeros_like(xa) + zcont_cte"
   ]
  },
  {
   "cell_type": "code",
   "execution_count": 59,
   "metadata": {
    "collapsed": false
   },
   "outputs": [],
   "source": [
    "tf_contsur_arsurvey = prism.tf(xa,ya,zcont,full_model['model'],inc,dec)"
   ]
  },
  {
   "cell_type": "code",
   "execution_count": 60,
   "metadata": {
    "collapsed": false
   },
   "outputs": [
    {
     "data": {
      "image/png": "[encoded data removed]",
      "text/plain": [
       "<matplotlib.figure.Figure at 0x139a78d0>"
      ]
     },
     "metadata": {},
     "output_type": "display_data"
    }
   ],
   "source": [
    "af.plotmap(xa, ya, tf_contsur_arsurvey, airborne_survey['shape'], airborne_survey['area'], \n",
    "           color_scheme = 'Greys', \n",
    "           prism_projection = True, projection_style = '-k', \n",
    "           model = full_model['projection'], unit = 'nT', \n",
    "           ranges = af.scale_bounds(tf_contsur_arsurvey, div=True))"
   ]
  },
  {
   "cell_type": "code",
   "execution_count": 61,
   "metadata": {
    "collapsed": true
   },
   "outputs": [],
   "source": [
    "caption = \"Noise-free total-field anomaly produced by the synthetic prisms (Figure 3) \\\n",
    "at the points simulating an airborne survey on a planar surface at $z = %.1f$ m. \\\n",
    "The black rectangles represent the horizontal projection of the simulated prisms.\" \\\n",
    "% (zcont_cte)"
   ]
  },
  {
   "cell_type": "code",
   "execution_count": 62,
   "metadata": {
    "collapsed": false
   },
   "outputs": [
    {
     "data": {
      "text/markdown": [
       "Noise-free total-field anomaly produced by the synthetic prisms (Figure 3) at the points simulating an airborne survey on a planar surface at $z = -1400.0$ m. The black rectangles represent the horizontal projection of the simulated prisms."
      ],
      "text/plain": [
       "<IPython.core.display.Markdown object>"
      ]
     },
     "metadata": {},
     "output_type": "display_data"
    }
   ],
   "source": [
    "dp(md(caption))"
   ]
  },
  {
   "cell_type": "markdown",
   "metadata": {},
   "source": [
    "### Synthetic data calculated at the interpolating points on the observation surface"
   ]
  },
  {
   "cell_type": "markdown",
   "metadata": {},
   "source": [
    "#### Gravity anomaly"
   ]
  },
  {
   "cell_type": "code",
   "execution_count": 63,
   "metadata": {
    "collapsed": false
   },
   "outputs": [],
   "source": [
    "gz_obsur_interp = prism.gz(xi,yi,zi,full_model['model'])"
   ]
  },
  {
   "cell_type": "code",
   "execution_count": 64,
   "metadata": {
    "collapsed": false
   },
   "outputs": [
    {
     "data": {
      "image/png": "[encoded data removed]",
      "text/plain": [
       "<matplotlib.figure.Figure at 0x11e3b6d8>"
      ]
     },
     "metadata": {},
     "output_type": "display_data"
    }
   ],
   "source": [
    "af.plotmap(xi, yi, gz_obsur_interp, interpolating['shape'], interpolating['area'],\n",
    "           color_scheme = 'Greys', \n",
    "           prism_projection = True, projection_style = '-k', \n",
    "           model = full_model['projection'], unit = 'mGal')"
   ]
  },
  {
   "cell_type": "code",
   "execution_count": 65,
   "metadata": {
    "collapsed": true
   },
   "outputs": [],
   "source": [
    "caption = \"Gravity anomaly (noise-free) produced by the synthetic bodies (Figure 3) \\\n",
    "at the interpolating points. The black rectangles represent the horizontal projection of the synthetic bodies \\\n",
    "(Figure 3).\""
   ]
  },
  {
   "cell_type": "code",
   "execution_count": 66,
   "metadata": {
    "collapsed": false
   },
   "outputs": [
    {
     "data": {
      "text/markdown": [
       "Gravity anomaly (noise-free) produced by the synthetic bodies (Figure 3) at the interpolating points. The black rectangles represent the horizontal projection of the synthetic bodies (Figure 3)."
      ],
      "text/plain": [
       "<IPython.core.display.Markdown object>"
      ]
     },
     "metadata": {},
     "output_type": "display_data"
    }
   ],
   "source": [
    "dp(md(caption))"
   ]
  },
  {
   "cell_type": "markdown",
   "metadata": {},
   "source": [
    "### Synthetic data calculated at the regular coarse grid points on the observation surface"
   ]
  },
  {
   "cell_type": "markdown",
   "metadata": {},
   "source": [
    "#### Total-field and RTP anomalies"
   ]
  },
  {
   "cell_type": "markdown",
   "metadata": {},
   "source": [
    "Total-field (equation 8) and RTP (equation 9) anomalies (noise-free) produced by the synthetic prisms (Figure 3) on the observation surface (Figure 4)."
   ]
  },
  {
   "cell_type": "code",
   "execution_count": 67,
   "metadata": {
    "collapsed": true
   },
   "outputs": [],
   "source": [
    "inc, dec = full_model['geomag_field']"
   ]
  },
  {
   "cell_type": "code",
   "execution_count": 68,
   "metadata": {
    "collapsed": false
   },
   "outputs": [],
   "source": [
    "tf_obsur_cgrid = prism.tf(xc,yc,zc,full_model['model'],inc,dec)"
   ]
  },
  {
   "cell_type": "code",
   "execution_count": 69,
   "metadata": {
    "collapsed": true
   },
   "outputs": [],
   "source": [
    "RTP_obsur_cgrid = prism.tf(xc,yc,zc,full_model_pole['model'],90.,0.)"
   ]
  },
  {
   "cell_type": "code",
   "execution_count": 70,
   "metadata": {
    "collapsed": false
   },
   "outputs": [
    {
     "data": {
      "image/png": "[encoded data removed]",
      "text/plain": [
       "<matplotlib.figure.Figure at 0x137d57b8>"
      ]
     },
     "metadata": {},
     "output_type": "display_data"
    }
   ],
   "source": [
    "file_name = '..\\\\manuscript\\\\figs\\\\Fig4'\n",
    "af.plotmap(xc, yc, zc, coarse_grid['shape'], coarse_grid['area'], \n",
    "           color_scheme = 'Greys_r',  \n",
    "           prism_projection = True, projection_style = '-w', \n",
    "           model = full_model['projection'], unit = 'm',\n",
    "           figure_name = file_name+'.eps')\n",
    "saved_files.append(file_name+'.eps')"
   ]
  },
  {
   "cell_type": "code",
   "execution_count": 71,
   "metadata": {
    "collapsed": true
   },
   "outputs": [],
   "source": [
    "caption = \"Undulating surface (grayscale) on which we calculate the synthetic data produced by the simulated \\\n",
    "prisms (Figure 3). The white rectangles represent the horizontal projection \\\n",
    "of the simulated prisms.\""
   ]
  },
  {
   "cell_type": "code",
   "execution_count": 72,
   "metadata": {
    "collapsed": false
   },
   "outputs": [
    {
     "data": {
      "text/markdown": [
       "Undulating surface (grayscale) on which we calculate the synthetic data produced by the simulated prisms (Figure 3). The white rectangles represent the horizontal projection of the simulated prisms."
      ],
      "text/plain": [
       "<IPython.core.display.Markdown object>"
      ]
     },
     "metadata": {},
     "output_type": "display_data"
    }
   ],
   "source": [
    "dp(md(caption))"
   ]
  },
  {
   "cell_type": "code",
   "execution_count": 73,
   "metadata": {
    "collapsed": false
   },
   "outputs": [],
   "source": [
    "#Save the total-field anomaly in a txt file\n",
    "now = datetime.datetime.utcnow().strftime('%d %B %Y %H:%M:%S UTC')\n",
    "header = \"\"\"# Generated by {name} on {date}\n",
    "# Noise-free total-field anomaly calculated with equation 8 at a regular grid on the\n",
    "# observation surface\n",
    "# shape (nx, ny): {shape}\n",
    "# area [x1, x2, y1, y2]: {area}\n",
    "# x (m)    y (m)    z (m)    total-field anomaly (nT)\n",
    "\"\"\".format(name=notebook_name,date=now, shape=coarse_grid['shape'], area=coarse_grid['area'])\n",
    "file_name = '..\\\\data\\\\tf_obsur_cgrid.txt'\n",
    "with open(file_name, 'w') as f:\n",
    "    f.write(header)\n",
    "    np.savetxt(f, zip(xc, yc, zc, tf_obsur_cgrid), fmt='%.5f')\n",
    "saved_files.append(file_name)"
   ]
  },
  {
   "cell_type": "code",
   "execution_count": 74,
   "metadata": {
    "collapsed": false
   },
   "outputs": [],
   "source": [
    "#Save the RTP anomaly in a txt file\n",
    "now = datetime.datetime.utcnow().strftime('%d %B %Y %H:%M:%S UTC')\n",
    "header = \"\"\"# Generated by {name} on {date}\n",
    "# True RTP anomaly (noise-free) calculated with equation 9 at a regular grid on the\n",
    "# observation surface\n",
    "# shape (nx, ny): {shape}\n",
    "# area [x1, x2, y1, y2]: {area}\n",
    "# x (m)    y (m)    z (m)    total-field anomaly (nT)\n",
    "\"\"\".format(name=notebook_name, date=now, shape=coarse_grid['shape'], area=coarse_grid['area'])\n",
    "file_name = '..\\\\data\\\\RTP_obsur_cgrid.txt'\n",
    "with open(file_name, 'w') as f:\n",
    "    f.write(header)\n",
    "    np.savetxt(f, zip(xc, yc, zc, RTP_obsur_cgrid), fmt='%.5f')\n",
    "saved_files.append(file_name)"
   ]
  },
  {
   "cell_type": "markdown",
   "metadata": {},
   "source": [
    "### Saved files"
   ]
  },
  {
   "cell_type": "code",
   "execution_count": 75,
   "metadata": {
    "collapsed": false
   },
   "outputs": [
    {
     "name": "stdout",
     "output_type": "stream",
     "text": [
      "1  ..\\data\\tf_noisy_asur.txt\n",
      "2  ..\\data\\tga_asur.txt\n",
      "3  ..\\manuscript\\figs\\Fig4.eps\n",
      "4  ..\\data\\tf_obsur_cgrid.txt\n",
      "5  ..\\data\\RTP_obsur_cgrid.txt\n"
     ]
    }
   ],
   "source": [
    "with open('reports\\\\report_%s.md' % notebook_name[:st.index(notebook_name,'.')], 'w') as f:\n",
    "    f.write('# Saved files \\n')\n",
    "    now = datetime.datetime.utcnow().strftime('%d %B %Y %H:%M:%S UTC')\n",
    "    header = 'Generated by {name} on {date}'.format(date=now, name=notebook_name)\n",
    "    f.write('\\n\\n'+header+'\\n\\n')\n",
    "    for i, sf in enumerate(saved_files):\n",
    "        print '%d  %s' % (i+1,sf)\n",
    "        f.write('*  `%s` \\n' % (sf))"
   ]
  }
 ],
 "metadata": {
  "anaconda-cloud": {},
  "kernelspec": {
   "display_name": "Python [default]",
   "language": "python",
   "name": "python2"
  },
  "language_info": {
   "codemirror_mode": {
    "name": "ipython",
    "version": 2
   },
   "file_extension": ".py",
   "mimetype": "text/x-python",
   "name": "python",
   "nbconvert_exporter": "python",
   "pygments_lexer": "ipython2",
   "version": "2.7.12"
  }
 },
 "nbformat": 4,
 "nbformat_minor": 0
}
