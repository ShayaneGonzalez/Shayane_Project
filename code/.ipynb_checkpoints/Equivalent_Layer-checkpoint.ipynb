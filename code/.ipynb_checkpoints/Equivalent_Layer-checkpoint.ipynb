{
 "cells": [
  {
   "cell_type": "markdown",
   "metadata": {},
   "source": [
    "## Valeria \n",
    "###  Total-field Anomaly\n",
    "#### Estimated Magnetic Moment on the equivalent layer with positive constraint "
   ]
  },
  {
   "cell_type": "code",
   "execution_count": null,
   "metadata": {
    "collapsed": false
   },
   "outputs": [],
   "source": [
    "%matplotlib inline\n",
    "import numpy as np\n",
    "from matplotlib import pyplot as plt\n",
    "import cPickle as pickle\n",
    "import datetime\n",
    "from IPython.display import Markdown as md\n",
    "from IPython.display import display as dp\n",
    "import string as st\n",
    "\n",
    "from __future__ import division\n",
    "from future.builtins import super\n",
    "\n",
    "import auxiliary_functions as af\n",
    "\n",
    "from fatiando import gridder\n",
    "from fatiando.mesher import Prism, PointGrid\n",
    "from fatiando.gridder import regular\n",
    "from fatiando.gravmag import prism, sphere\n",
    "from fatiando.gravmag.eqlayer import EQLTotalField\n",
    "from fatiando.gravmag.eqlayer import EQLGravity\n",
    "from fatiando.inversion.regularization import Damping, Smoothness2D\n",
    "from fatiando.inversion.hyper_param import LCurve\n",
    "from fatiando.vis import mpl, myv\n",
    "from fatiando.utils import ang2vec, vec2ang, contaminate, dircos\n",
    "from fatiando.constants import G, SI2MGAL"
   ]
  },
  {
   "cell_type": "code",
   "execution_count": null,
   "metadata": {
    "collapsed": true
   },
   "outputs": [],
   "source": [
    "from numpy import linalg\n",
    "from scipy.optimize import nnls\n",
    "from scipy.sparse import identity\n",
    "from scipy.sparse import diags"
   ]
  },
  {
   "cell_type": "code",
   "execution_count": null,
   "metadata": {
    "collapsed": true
   },
   "outputs": [],
   "source": [
    "def A_dipole(xi,yi,zi,xk,yk,zk):\n",
    "    return A_dipole"
   ]
  },
  {
   "cell_type": "markdown",
   "metadata": {},
   "source": [
    "# Load the synthetic model formed by one prism"
   ]
  },
  {
   "cell_type": "code",
   "execution_count": null,
   "metadata": {
    "collapsed": true
   },
   "outputs": [],
   "source": [
    "with open('../data/model_single.pickle') as f:\n",
    "        full_model = pickle.load(f)"
   ]
  },
  {
   "cell_type": "code",
   "execution_count": null,
   "metadata": {
    "collapsed": false
   },
   "outputs": [],
   "source": [
    "inc, dec = full_model['geomag_field']\n",
    "print inc, dec"
   ]
  },
  {
   "cell_type": "code",
   "execution_count": null,
   "metadata": {
    "collapsed": false
   },
   "outputs": [],
   "source": [
    "ints, incs, decs = vec2ang(full_model['model'][0].props['magnetization'])\n",
    "print ints, incs, decs"
   ]
  },
  {
   "cell_type": "markdown",
   "metadata": {},
   "source": [
    "# Load the grid of points"
   ]
  },
  {
   "cell_type": "code",
   "execution_count": null,
   "metadata": {
    "collapsed": true
   },
   "outputs": [],
   "source": [
    "with open('../data/regular_grid.pickle') as f:\n",
    "        regular_grid = pickle.load(f)"
   ]
  },
  {
   "cell_type": "code",
   "execution_count": null,
   "metadata": {
    "collapsed": false
   },
   "outputs": [],
   "source": [
    "regular_grid"
   ]
  },
  {
   "cell_type": "markdown",
   "metadata": {},
   "source": [
    "# Define the coordinates on the observation surface\n"
   ]
  },
  {
   "cell_type": "code",
   "execution_count": null,
   "metadata": {
    "collapsed": false
   },
   "outputs": [],
   "source": [
    "#coordinates x and y of the data\n",
    "xp, yp = regular(regular_grid['area'], regular_grid['shape'])\n",
    "print len(xp)\n",
    "\n",
    "#vertical coordinates of the data \n",
    "#zp = af.observation_surface(xp,yp)\n",
    "\n",
    "# vertical coordinates of the data\n",
    "zp = np.zeros_like(xp)\n",
    "height_obs = -50.\n",
    "\n",
    "print len(zp)\n",
    "\n",
    "assert (xp.size == regular_grid['N']) and (yp.size == regular_grid['N']) and (zp.size == regular_grid['N']),  \\\n",
    "                'xp and yp and zp must have the same size difined by shape'\n"
   ]
  },
  {
   "cell_type": "code",
   "execution_count": null,
   "metadata": {
    "collapsed": false
   },
   "outputs": [],
   "source": [
    "file_name = '..\\\\figs\\\\Data_Surface'\n",
    "\n",
    "af.plotmap(xp, yp, zp, regular_grid['shape'], regular_grid['area'],\n",
    "                color_scheme = 'Greys_r', prism_projection = True, projection_style = '-w', \n",
    "                model = full_model['projection'], unit = 'm')\n",
    "\n",
    "plt.savefig(file_name+'.eps', dpi=600)\n",
    "#saved_files.append(file_name+'.eps')\n",
    "\n",
    "plt.show()"
   ]
  },
  {
   "cell_type": "markdown",
   "metadata": {},
   "source": [
    "# Observed total-field anomaly"
   ]
  },
  {
   "cell_type": "code",
   "execution_count": null,
   "metadata": {
    "collapsed": true
   },
   "outputs": [],
   "source": [
    "#tf_noise = 5.\n",
    "tf_noise = 0."
   ]
  },
  {
   "cell_type": "code",
   "execution_count": null,
   "metadata": {
    "collapsed": false
   },
   "outputs": [],
   "source": [
    "tf = contaminate(prism.tf(xp,yp,zp,full_model['model'], inc, dec), tf_noise, seed=47)"
   ]
  },
  {
   "cell_type": "code",
   "execution_count": null,
   "metadata": {
    "collapsed": false
   },
   "outputs": [],
   "source": [
    "file_name = '..\\\\figs\\\\Total_Field'\n",
    "\n",
    "print file_name\n",
    "\n",
    "af.plotmap(xp, yp, tf, regular_grid['shape'], regular_grid['area'],\n",
    "                color_scheme = 'Greys_r', prism_projection = True, projection_style = '-w', \n",
    "                model = full_model['projection'], unit = 'nT')\n",
    "\n",
    "plt.savefig(file_name+'.eps', dpi=600)\n",
    "#saved_files.append(file_name+'.eps')\n",
    "\n",
    "plt.show()"
   ]
  },
  {
   "cell_type": "markdown",
   "metadata": {},
   "source": [
    "# Observerd Gravity data"
   ]
  },
  {
   "cell_type": "code",
   "execution_count": null,
   "metadata": {
    "collapsed": true
   },
   "outputs": [],
   "source": [
    "gz_noise = 0.01"
   ]
  },
  {
   "cell_type": "code",
   "execution_count": null,
   "metadata": {
    "collapsed": true
   },
   "outputs": [],
   "source": [
    "gz = contaminate(prism.gz(xp,yp,zp,full_model['model']), gz_noise, seed=47)"
   ]
  },
  {
   "cell_type": "code",
   "execution_count": null,
   "metadata": {
    "collapsed": false
   },
   "outputs": [],
   "source": [
    "file_name = '..\\\\figs\\\\Gravity_data'\n",
    "\n",
    "print file_name\n",
    "\n",
    "af.plotmap(xp, yp, gz, regular_grid['shape'], regular_grid['area'],\n",
    "                color_scheme = 'Greys_r', prism_projection = True, projection_style = '-w', \n",
    "                model = full_model['projection'], unit = 'mGal')\n",
    "\n",
    "plt.savefig(file_name+'.eps', dpi=600)\n",
    "#saved_files.append(file_name+'.eps')\n",
    "\n",
    "plt.show()"
   ]
  },
  {
   "cell_type": "markdown",
   "metadata": {},
   "source": [
    "### Planar equivalent layer"
   ]
  },
  {
   "cell_type": "markdown",
   "metadata": {},
   "source": [
    "#### Parameters defining the equivalent layer"
   ]
  },
  {
   "cell_type": "code",
   "execution_count": null,
   "metadata": {
    "collapsed": false
   },
   "outputs": [],
   "source": [
    "#horizontal plane containing the equivalent sources\n",
    "z0 = np.zeros_like(zp)\n",
    "h = 400.\n",
    "z0 += h\n",
    "print h"
   ]
  },
  {
   "cell_type": "markdown",
   "metadata": {},
   "source": [
    "# Estimated magnetic moment distribution"
   ]
  },
  {
   "cell_type": "code",
   "execution_count": null,
   "metadata": {
    "collapsed": true
   },
   "outputs": [],
   "source": [
    "#equivalent layer\n",
    "layer = PointGrid(regular_grid['area'], h, regular_grid['shape'])"
   ]
  },
  {
   "cell_type": "code",
   "execution_count": null,
   "metadata": {
    "collapsed": false
   },
   "outputs": [],
   "source": [
    "print len(xp), len(tf), inc, dec, incs, decs"
   ]
  },
  {
   "cell_type": "markdown",
   "metadata": {},
   "source": [
    "# Sensitivity Matrix (dipoles) via Fatiando "
   ]
  },
  {
   "cell_type": "code",
   "execution_count": null,
   "metadata": {
    "collapsed": false
   },
   "outputs": [],
   "source": [
    "mag = dircos(incs, decs)\n",
    "print mag"
   ]
  },
  {
   "cell_type": "code",
   "execution_count": null,
   "metadata": {
    "collapsed": false
   },
   "outputs": [],
   "source": [
    "Npts = regular_grid['N']\n",
    "M    = Npts\n",
    "TF_Fatiando = np.empty((Npts,M),dtype =float)\n",
    "for i, c in enumerate(layer):\n",
    "    TF_Fatiando[:,i] = sphere.tf(xp, yp, zp, [c], inc, dec,pmag=mag)\n",
    "   "
   ]
  },
  {
   "cell_type": "code",
   "execution_count": null,
   "metadata": {
    "collapsed": false
   },
   "outputs": [],
   "source": [
    "ATA = np.empty((M,M),dtype =float)\n",
    "ATA = np.dot(np.transpose(TF_Fatiando),TF_Fatiando)"
   ]
  },
  {
   "cell_type": "code",
   "execution_count": null,
   "metadata": {
    "collapsed": false
   },
   "outputs": [],
   "source": [
    "reg_parameter = 0.0000000000000000000001\n",
    "\n",
    "Hessiana  = ATA + diags([reg_parameter], 0, (M,M), format='csr', dtype='float')"
   ]
  },
  {
   "cell_type": "code",
   "execution_count": null,
   "metadata": {
    "collapsed": true
   },
   "outputs": [],
   "source": [
    "ATdo = np.dot(np.transpose(TF_Fatiando),tf)"
   ]
  },
  {
   "cell_type": "code",
   "execution_count": null,
   "metadata": {
    "collapsed": false
   },
   "outputs": [],
   "source": [
    "p = linalg.solve(Hessiana,ATdo)\n"
   ]
  },
  {
   "cell_type": "code",
   "execution_count": null,
   "metadata": {
    "collapsed": false
   },
   "outputs": [],
   "source": [
    "tf_predicted  = np.dot(TF_Fatiando,p)\n",
    "residual        = tf - tf_predicted"
   ]
  },
  {
   "cell_type": "code",
   "execution_count": null,
   "metadata": {
    "collapsed": false
   },
   "outputs": [],
   "source": [
    "file_name = '..\\\\figs\\\\Estimated_Mag'\n",
    "\n",
    "nplots = 1\n",
    "\n",
    "f, (ax1) = plt.subplots(nplots,figsize=(6.33333,nplots*6.66667))\n",
    "plt.title('Estimated Magnetic Moment')\n",
    "\n",
    "af.multiplotmap(ax1, xp, yp, p, regular_grid['shape'], regular_grid['area'],\n",
    "                color_scheme = 'Greys_r', prism_projection = True, projection_style = '-w', \n",
    "                model = full_model['projection'], unit = 'magnetic moment')\n",
    "\n",
    "\n",
    "plt.savefig(file_name+'.eps', dpi=600)\n",
    "#saved_files.append(file_name+'.eps')\n",
    "\n",
    "plt.show()"
   ]
  },
  {
   "cell_type": "code",
   "execution_count": null,
   "metadata": {
    "collapsed": false
   },
   "outputs": [],
   "source": [
    "file_name = '..\\\\figs\\\\Predicted_Mag_Eq_Layer'\n",
    "\n",
    "nplots = 4\n",
    "\n",
    "f, (ax1, ax2, ax3, ax4) = plt.subplots(nplots,figsize=(6.33333,nplots*3.66667))\n",
    "\n",
    "\n",
    "af.multiplotmap(ax1, xp, yp, tf, regular_grid['shape'], regular_grid['area'],\n",
    "                color_scheme = 'Greys_r', prism_projection = True, projection_style = '-w', \n",
    "                model = full_model['projection'], unit = 'nT', \n",
    "                figure_label = '(a)')\n",
    "\n",
    "plt.title('Observed Total-Field Anomaly ')\n",
    "\n",
    "\n",
    "af.multiplotmap(ax2, xp, yp, tf_predicted, regular_grid['shape'], regular_grid['area'],\n",
    "                color_scheme = 'Greys_r', prism_projection = True, projection_style = '-w', \n",
    "                model = full_model['projection'], unit = 'nT', \n",
    "                figure_label = '(b)')\n",
    "\n",
    "plt.title('Predicted Total-Field Anomaly ')\n",
    "\n",
    "af.multiplotmap(ax3, xp, yp, residual, regular_grid['shape'], regular_grid['area'],\n",
    "                color_scheme = 'Greys_r', prism_projection = True, projection_style = '-w', \n",
    "                model = full_model['projection'], unit = 'nT', \n",
    "                figure_label = '(c)')\n",
    "\n",
    "plt.title('Residuals')\n",
    "\n",
    "\n",
    "af.multiplothist(ax4, residual, text_position = [0.52, 0.92, 0.84, 0.07],\n",
    "                 text_fontsize = 15,\n",
    "                 figure_label = '(d)', label_position = (0.02,0.89))\n",
    "\n",
    "\n",
    "plt.savefig(file_name+'.eps', dpi=600)\n",
    "#saved_files.append(file_name+'.eps')\n",
    "\n",
    "plt.show()"
   ]
  },
  {
   "cell_type": "markdown",
   "metadata": {},
   "source": [
    "# Sensitivity Matrix (point of masses) via Fatiando "
   ]
  },
  {
   "cell_type": "code",
   "execution_count": null,
   "metadata": {
    "collapsed": true
   },
   "outputs": [],
   "source": [
    "GZ_Fatiando = np.empty((Npts,M),dtype =float)\n",
    "for i, c in enumerate(layer):\n",
    "    GZ_Fatiando[:,i] = sphere.gz(xp, yp, zp, [c], dens = 1.0 )\n",
    "   "
   ]
  },
  {
   "cell_type": "code",
   "execution_count": null,
   "metadata": {
    "collapsed": true
   },
   "outputs": [],
   "source": [
    "ATA = np.empty((M,M),dtype =float)\n",
    "ATA = np.dot(np.transpose(GZ_Fatiando),GZ_Fatiando)"
   ]
  },
  {
   "cell_type": "code",
   "execution_count": null,
   "metadata": {
    "collapsed": true
   },
   "outputs": [],
   "source": [
    "reg_parameter = 0.000000000000000000001\n",
    "\n",
    "Hessiana  = ATA + diags([reg_parameter], 0, (M,M), format='csr', dtype='float')"
   ]
  },
  {
   "cell_type": "code",
   "execution_count": null,
   "metadata": {
    "collapsed": true
   },
   "outputs": [],
   "source": [
    "ATdo = np.dot(np.transpose(GZ_Fatiando),gz)"
   ]
  },
  {
   "cell_type": "code",
   "execution_count": null,
   "metadata": {
    "collapsed": true
   },
   "outputs": [],
   "source": [
    "p_gz = linalg.solve(Hessiana,ATdo)"
   ]
  },
  {
   "cell_type": "code",
   "execution_count": null,
   "metadata": {
    "collapsed": true
   },
   "outputs": [],
   "source": [
    "gz_predicted    = np.dot(GZ_Fatiando,p_gz)\n",
    "residual        = gz - gz_predicted"
   ]
  },
  {
   "cell_type": "code",
   "execution_count": null,
   "metadata": {
    "collapsed": false
   },
   "outputs": [],
   "source": [
    "file_name = '..\\\\figs\\\\Estimated_Masses'\n",
    "\n",
    "nplots = 1\n",
    "\n",
    "f, (ax1) = plt.subplots(nplots,figsize=(6.33333,nplots*6.66667))\n",
    "plt.title('Estimated Masses')\n",
    "\n",
    "af.multiplotmap(ax1, xp, yp, p_gz, regular_grid['shape'], regular_grid['area'],\n",
    "                color_scheme = 'Greys_r', prism_projection = True, projection_style = '-w', \n",
    "                model = full_model['projection'], unit = 'masses')\n",
    "\n",
    "\n",
    "plt.savefig(file_name+'.eps', dpi=600)\n",
    "#saved_files.append(file_name+'.eps')\n",
    "\n",
    "plt.show()"
   ]
  },
  {
   "cell_type": "code",
   "execution_count": null,
   "metadata": {
    "collapsed": false
   },
   "outputs": [],
   "source": [
    "file_name = '..\\\\figs\\\\Predicted_Grav_Eq_Layer'\n",
    "\n",
    "nplots = 4\n",
    "\n",
    "f, (ax1, ax2, ax3, ax4) = plt.subplots(nplots,figsize=(6.33333,nplots*3.66667))\n",
    "\n",
    "\n",
    "af.multiplotmap(ax1, xp, yp, gz, regular_grid['shape'], regular_grid['area'],\n",
    "                color_scheme = 'Greys_r', prism_projection = True, projection_style = '-w', \n",
    "                model = full_model['projection'], unit = 'mGal', \n",
    "                figure_label = '(a)')\n",
    "\n",
    "plt.title('Observed Gravity data ')\n",
    "\n",
    "\n",
    "af.multiplotmap(ax2, xp, yp, gz_predicted, regular_grid['shape'], regular_grid['area'],\n",
    "                color_scheme = 'Greys_r', prism_projection = True, projection_style = '-w', \n",
    "                model = full_model['projection'], unit = 'mGal', \n",
    "                figure_label = '(b)')\n",
    "\n",
    "plt.title('Predicted Gravity data ')\n",
    "\n",
    "af.multiplotmap(ax3, xp, yp, residual, regular_grid['shape'], regular_grid['area'],\n",
    "                color_scheme = 'Greys_r', prism_projection = True, projection_style = '-w', \n",
    "                model = full_model['projection'], unit = 'mGal', \n",
    "                figure_label = '(c)')\n",
    "\n",
    "plt.title('Residuals')\n",
    "\n",
    "\n",
    "af.multiplothist(ax4, residual, text_position = [0.52, 0.92, 0.84, 0.07],\n",
    "                 text_fontsize = 15,\n",
    "                 figure_label = '(d)', label_position = (0.02,0.89))\n",
    "\n",
    "\n",
    "plt.savefig(file_name+'.eps', dpi=600)\n",
    "#saved_files.append(file_name+'.eps')\n",
    "\n",
    "plt.show()"
   ]
  },
  {
   "cell_type": "markdown",
   "metadata": {},
   "source": [
    "# Calculate the masses from the estimated masses using the equivalent layer"
   ]
  },
  {
   "cell_type": "code",
   "execution_count": null,
   "metadata": {
    "collapsed": false
   },
   "outputs": [],
   "source": [
    "Total_Mass_Eq = np.sum(p_gz*regular_grid['DS'])\n",
    "print Total_Mass_Eq, regular_grid['DS'], type(p_gz)\n",
    "\n"
   ]
  },
  {
   "cell_type": "code",
   "execution_count": null,
   "metadata": {
    "collapsed": true
   },
   "outputs": [],
   "source": [
    "# Horizontal coordinates of the model\n",
    "for i, sq in enumerate(full_model['projection']):\n",
    "        x1, x2, y1, y2 = sq\n",
    "       \n",
    "        \n",
    "# Depth coordinates of the model\n",
    "for i, sq in enumerate(full_model['depth_model']):\n",
    "        top, bottom = sq\n",
    "        \n",
    "        \n",
    "        "
   ]
  },
  {
   "cell_type": "code",
   "execution_count": null,
   "metadata": {
    "collapsed": false
   },
   "outputs": [],
   "source": [
    "#calculating the volumes of the simulated sources \n",
    "Volume_1 = (x2 - x1) * (y2 - y1) * (bottom - top)\n",
    "\n",
    "rho1 = full_model['model'][0].props['density']\n",
    "print rho1\n",
    "#calculating the masses of the simulated sources \n",
    "Mass_1 = Volume_1 * rho1\n",
    "\n",
    "#calculating the total mass of the simulated sources \n",
    "\n",
    "Massa_Total = Mass_1 \n",
    "print 'Massa_Total', Massa_Total\n",
    "print Total_Mass_Eq\n",
    "\n",
    "print 'Difference ', Massa_Total - Total_Mass_Eq\n"
   ]
  },
  {
   "cell_type": "markdown",
   "metadata": {},
   "source": [
    "# Using the Equivalent Layer From Fatiando"
   ]
  },
  {
   "cell_type": "code",
   "execution_count": null,
   "metadata": {
    "collapsed": false
   },
   "outputs": [],
   "source": [
    "# misfit function\n",
    "misfit = EQLGravity(xp, yp, zp, gz, layer)"
   ]
  },
  {
   "cell_type": "code",
   "execution_count": null,
   "metadata": {
    "collapsed": false
   },
   "outputs": [],
   "source": [
    "# normalizing factor\n",
    "f0 = np.trace(misfit.hessian(None))/misfit.nparams\n",
    "print 'f0 = %10.3e' % f0"
   ]
  },
  {
   "cell_type": "code",
   "execution_count": null,
   "metadata": {
    "collapsed": true
   },
   "outputs": [],
   "source": [
    "# Tikhonov regularization\n",
    "#regul = Damping(layer.size)\n",
    "regul = Smoothness2D(layer.shape)"
   ]
  },
  {
   "cell_type": "code",
   "execution_count": null,
   "metadata": {
    "collapsed": true
   },
   "outputs": [],
   "source": [
    "# Use the L-curve to find the best regularization parameter\n",
    "solver = LCurve(misfit, regul, [f0*(10.**i) for i in range(-10, -1)]).fit()"
   ]
  },
  {
   "cell_type": "code",
   "execution_count": null,
   "metadata": {
    "collapsed": false
   },
   "outputs": [],
   "source": [
    "print 'u0 = %10.3e' % ((1./f0)*solver.regul_param_)"
   ]
  },
  {
   "cell_type": "code",
   "execution_count": null,
   "metadata": {
    "collapsed": false
   },
   "outputs": [],
   "source": [
    "\n",
    "nplots = 1\n",
    "\n",
    "f, (ax1) = plt.subplots(nplots,figsize=(6.33333,nplots*6.66667))\n",
    "plt.title('Estimated Masses')\n",
    "\n",
    "af.multiplotmap(ax1, xp, yp,solver.estimate_, regular_grid['shape'], regular_grid['area'],\n",
    "                color_scheme = 'Greys_r', prism_projection = True, projection_style = '-w', \n",
    "                model = full_model['projection'], unit = 'masses')\n",
    "\n",
    "\n",
    "plt.show()"
   ]
  },
  {
   "cell_type": "code",
   "execution_count": null,
   "metadata": {
    "collapsed": false
   },
   "outputs": [],
   "source": [
    "Total_Mass_Eq2 = np.sum(solver.estimate_*regular_grid['DS'])\n",
    "print Total_Mass_Eq2, regular_grid['DS'], type(solver.estimate_)"
   ]
  },
  {
   "cell_type": "code",
   "execution_count": null,
   "metadata": {
    "collapsed": false
   },
   "outputs": [],
   "source": [
    "file_name = '..\\\\figs\\\\Predicted_Grav_Eq_Layer'\n",
    "\n",
    "nplots = 4\n",
    "\n",
    "f, (ax1, ax2, ax3, ax4) = plt.subplots(nplots,figsize=(6.33333,nplots*3.66667))\n",
    "\n",
    "\n",
    "af.multiplotmap(ax1, xp, yp, gz, regular_grid['shape'], regular_grid['area'],\n",
    "                color_scheme = 'Greys_r', prism_projection = True, projection_style = '-w', \n",
    "                model = full_model['projection'], unit = 'mGal', \n",
    "                figure_label = '(a)')\n",
    "\n",
    "plt.title('Observed Gravity data ')\n",
    "\n",
    "\n",
    "af.multiplotmap(ax2, xp, yp, solver[0].predicted(),regular_grid['shape'], regular_grid['area'],\n",
    "                color_scheme = 'Greys_r', prism_projection = True, projection_style = '-w', \n",
    "                model = full_model['projection'], unit = 'mGal', \n",
    "                figure_label = '(b)')\n",
    "\n",
    "plt.title('Predicted Gravity data ')\n",
    "\n",
    "af.multiplotmap(ax3, xp, yp, solver[0].residuals(), regular_grid['shape'], regular_grid['area'],\n",
    "                color_scheme = 'Greys_r', prism_projection = True, projection_style = '-w', \n",
    "                model = full_model['projection'], unit = 'mGal', \n",
    "                figure_label = '(c)')\n",
    "\n",
    "plt.title('Residuals')\n",
    "\n",
    "\n",
    "af.multiplothist(ax4, solver[0].residuals(), text_position = [0.52, 0.92, 0.84, 0.07],\n",
    "                 text_fontsize = 15,\n",
    "                 figure_label = '(d)', label_position = (0.02,0.89))\n",
    "\n",
    "\n",
    "#plt.savefig(file_name+'.eps', dpi=600)\n",
    "#saved_files.append(file_name+'.eps')\n",
    "\n",
    "plt.show()"
   ]
  },
  {
   "cell_type": "markdown",
   "metadata": {},
   "source": [
    "## Estimate the magnetic moment over the equivalent layer with the positive constraint on the parameters \n",
    "### non-negative least squares problem (NNLS)"
   ]
  },
  {
   "cell_type": "markdown",
   "metadata": {
    "collapsed": true
   },
   "source": [
    "p_positive = nnls(Hessiana, ATdo)\n"
   ]
  },
  {
   "cell_type": "markdown",
   "metadata": {
    "collapsed": false
   },
   "source": [
    "print 'Norm-L2:', p_positive[1]"
   ]
  },
  {
   "cell_type": "markdown",
   "metadata": {
    "collapsed": false
   },
   "source": [
    "nplots = 1\n",
    "\n",
    "f, (ax1) = plt.subplots(nplots,figsize=(6.33333,nplots*6.66667))\n",
    "\n",
    "af.multiplotmap(ax1, xp, yp, p_positive[0], regular_grid['shape'], regular_grid['area'],\n",
    "                color_scheme = 'Greys_r', prism_projection = True, projection_style = '-w', \n",
    "                model = full_model['projection'], unit = 'magnetic moment')\n",
    "\n",
    "#plt.savefig(file_name+'.eps', dpi=600)\n",
    "#saved_files.append(file_name+'.eps')\n",
    "\n",
    "plt.show()"
   ]
  }
 ],
 "metadata": {
  "anaconda-cloud": {},
  "kernelspec": {
   "display_name": "Python [default]",
   "language": "python",
   "name": "python2"
  },
  "language_info": {
   "codemirror_mode": {
    "name": "ipython",
    "version": 2
   },
   "file_extension": ".py",
   "mimetype": "text/x-python",
   "name": "python",
   "nbconvert_exporter": "python",
   "pygments_lexer": "ipython2",
   "version": "2.7.12"
  }
 },
 "nbformat": 4,
 "nbformat_minor": 0
}
